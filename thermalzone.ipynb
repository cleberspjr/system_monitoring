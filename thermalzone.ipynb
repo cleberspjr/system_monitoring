{
 "cells": [
  {
   "cell_type": "code",
   "execution_count": 45,
   "id": "98685dc7",
   "metadata": {},
   "outputs": [],
   "source": [
    "import matplotlib.pyplot as plt\n",
    "import numpy as np\n",
    "import json\n",
    "from datetime import datetime\n",
    "#import schedule\n",
    "#import time"
   ]
  },
  {
   "cell_type": "code",
   "execution_count": 7,
   "id": "315e36cc",
   "metadata": {
    "scrolled": true
   },
   "outputs": [
    {
     "name": "stdout",
     "output_type": "stream",
     "text": [
      "['/sys/class/thermal/thermal_zone2', '/sys/class/thermal/thermal_zone0', '/sys/class/thermal/thermal_zone7', '/sys/class/thermal/thermal_zone5', '/sys/class/thermal/thermal_zone3', '/sys/class/thermal/thermal_zone1', '/sys/class/thermal/thermal_zone8', '/sys/class/thermal/thermal_zone6', '/sys/class/thermal/thermal_zone4']\n"
     ]
    }
   ],
   "source": [
    "import os\n",
    "import re\n",
    "import subprocess\n",
    "import matplotlib.pyplot as plt\n",
    "import numpy as np\n",
    "import json\n",
    "from datetime import datetime\n",
    "\n",
    "from pathlib import Path\n",
    "\n",
    "thermal = '/sys/class/thermal/'\n",
    "\n",
    "def thermal_zone():\n",
    "    t_zone = [os.path.join(thermal, m.group(0)) for m in [re.search('thermal_zone[0-9]', d) for d in os.listdir(thermal)] if m] \n",
    "    #t_zone = [filename for filename in os.listdir(thermal) if filename.startswith(\"thermal_zone\")]\n",
    "    return t_zone\n",
    "\n",
    "def value(valor):\n",
    "    val = (subprocess.check_output(['cat', valor]))\n",
    "    return val\n",
    "\n",
    "def thermal_temperature(zona):\n",
    "    zona_temp = ([int(value(os.path.join(p, 'temp'))) for p in zona])\n",
    "\n",
    "    return zona_temp\n",
    "\n",
    "#save only 1 record per termal_zone\n",
    "def save_thermal_temperature(zona, file):\n",
    "    q = open(file, 'w')\n",
    "    zona_temp = ([int(value(os.path.join(p, 'temp'))) for p in zona])\n",
    "    \n",
    "    now = datetime.now()    \n",
    "    label = \"\"\n",
    "    label = str(\"day\")+\";\"+str(\"time\")\n",
    "    record = \"\"\n",
    "    record = str(now).split(\" \")[0]+\";\"+str(now).split(\" \")[1]\n",
    "    i=0\n",
    "    for p in zona:        \n",
    "        label += \";\"+str(p.split(\"/\")[-1])\n",
    "        record +=\";\"+str(zona_temp[i])\n",
    "        i+=1        \n",
    "    record +=str('\\n')\n",
    "    q.write(str(label)+\"\\n\")\n",
    "    q.write(record)    \n",
    "    q.close()\n",
    "    return zona_temp\n",
    "\n",
    "#save only several records termal_zone temperatures per period of time\n",
    "# to be implemented\n",
    "#def save_thermal_temperature(zona, file, interval):\n",
    "\n",
    "# print_single_temp(input):\n",
    "#     q = open(input, 'a')\n",
    "    \n",
    "#     q.close()\n",
    "    \n",
    "def main():    \n",
    "    output_file_unico = \"temp_database.txt\"\n",
    "    output_file_varios = \"temp_varios_database.txt\" \n",
    "      \n",
    "    #Especifica a zona termal que se quer medir\n",
    "    zona = thermal_zone()\n",
    "    print(zona)    \n",
    "    #Salva as temperaturas de cada zona (1 unico registro)\n",
    "    save_thermal_temperature(zona, output_file_unico)\n",
    "    \n",
    "    # No futuro esta funcao vai ser chamada por 1 thread isolada\n",
    "    \n",
    "    # Salva as temperaturas de cada zona (1 registro por intervalo=segundo)\n",
    "    # chamada da funcao aqui\n",
    "    # exemplo - save_thermal_temperature_por_segundo(zona, output_file_unico,10)\n",
    "    \n",
    "#     # Printar grafico de linhas que exibe 1 temperatura por zona (arquivo output_file_unico)\n",
    "#     # chamada da funcao aqui\n",
    "#     # ex. print_single_temp(zona, output_file_unico)\n",
    "\n",
    "\n",
    "#     # Printa grafico de linhas que exibe 10 temperaturas para cada zona termal (de 1 em 1)\n",
    "#     # no intervalo de tempo especificado (usar o arquivo output_file_varios e printar os 10 ultimos minutos)\n",
    "#     # chamada da funcao aqui\n",
    "#     # ex. print_several_temps(zona, output_file_unico, interval=10)\n",
    "    \n",
    "    \n",
    "#     dt_string = now.strftime(\"%d/%m/%Y %H:%M:%S\")\n",
    "    \n",
    "#     plt.title('Temperatura Zona 0')\n",
    "#     plt.xlabel('HORA')\n",
    "#     plt.ylabel('Temperatura(°C)')\n",
    "\n",
    "#     plt.bar(data_outro, dt_string)\n",
    "#     plt.show()\n",
    "    \n",
    "    \n",
    "    \n",
    "if __name__ == \"__main__\":\n",
    "    main()"
   ]
  },
  {
   "cell_type": "code",
   "execution_count": 16,
   "id": "6ac8619a",
   "metadata": {
    "scrolled": true
   },
   "outputs": [],
   "source": [
    "valores = ['zona_0', 'zona_1', 'zona_2', 'zona_3', 'zona_4', 'zona_5', 'zona_6', 'zona_7', 'zona_8']"
   ]
  },
  {
   "cell_type": "code",
   "execution_count": 17,
   "id": "517cb64b",
   "metadata": {
    "scrolled": true
   },
   "outputs": [
    {
     "name": "stdout",
     "output_type": "stream",
     "text": [
      "now = 26/03/2023 12:37:34\n",
      "[,  22050]\n"
     ]
    },
    {
     "ename": "IndexError",
     "evalue": "list index out of range",
     "output_type": "error",
     "traceback": [
      "\u001b[0;31m---------------------------------------------------------------------------\u001b[0m",
      "\u001b[0;31mIndexError\u001b[0m                                Traceback (most recent call last)",
      "Cell \u001b[0;32mIn[17], line 31\u001b[0m\n\u001b[1;32m     28\u001b[0m     \u001b[38;5;28mprint\u001b[39m(data_outro)\n\u001b[1;32m     30\u001b[0m data \u001b[38;5;241m=\u001b[39m temp\u001b[38;5;241m.\u001b[39mreadline()\n\u001b[0;32m---> 31\u001b[0m data \u001b[38;5;241m=\u001b[39m \u001b[43mdata\u001b[49m\u001b[38;5;241;43m.\u001b[39;49m\u001b[43msplit\u001b[49m\u001b[43m(\u001b[49m\u001b[38;5;124;43m\"\u001b[39;49m\u001b[38;5;124;43m,\u001b[39;49m\u001b[38;5;124;43m\"\u001b[39;49m\u001b[43m)\u001b[49m\u001b[43m[\u001b[49m\u001b[38;5;241;43m3\u001b[39;49m\u001b[43m]\u001b[49m\u001b[38;5;241m.\u001b[39mreplace(\u001b[38;5;124m\"\u001b[39m\u001b[38;5;124m[\u001b[39m\u001b[38;5;124m\"\u001b[39m, \u001b[38;5;124m\"\u001b[39m\u001b[38;5;124m\"\u001b[39m)\n\u001b[1;32m     33\u001b[0m plt\u001b[38;5;241m.\u001b[39mtitle(\u001b[38;5;124m'\u001b[39m\u001b[38;5;124mTemperatura Zona 0\u001b[39m\u001b[38;5;124m'\u001b[39m)\n\u001b[1;32m     34\u001b[0m plt\u001b[38;5;241m.\u001b[39mxlabel(\u001b[38;5;124m'\u001b[39m\u001b[38;5;124mHORA\u001b[39m\u001b[38;5;124m'\u001b[39m)\n",
      "\u001b[0;31mIndexError\u001b[0m: list index out of range"
     ]
    }
   ],
   "source": [
    "#def job():\n",
    "now = datetime.now()\n",
    "dt_string = now.strftime(\"%d/%m/%Y %H:%M:%S\")\n",
    "print(\"now =\", dt_string)\n",
    "\n",
    "with open(\"temp.txt\", \"r\") as temp:\n",
    "    #myList = json.load(temp)\n",
    "    #print(myList[0])\n",
    "    #print(myList)\n",
    "    data = temp.readline()\n",
    "    data = data.split(\",\")[3].replace(\"[\", \"\")\n",
    "    \n",
    "    data_outro = \"\"\n",
    "    \n",
    "    q = open(\"tzone3.txt\", 'w')\n",
    "    q.close()\n",
    " \n",
    "    with open(\"tzone3.txt\", 'r') as tzone3:\n",
    "        data_outro = tzone3.readline().replace(\"[\", \"\").replace(\"]\", \"\").replace(\"\\n\", \"\")\n",
    "        data_outro = data_outro.split(\", \")\n",
    "        \n",
    "    with open(\"tzone3.txt\", \"w\") as tzone3:\n",
    "        data_outro.append(data)\n",
    "        data_outro = \", \".join(data_outro)\n",
    "        data_outro = \"[\" + data_outro + \"]\"\n",
    "        \n",
    "        tzone3.write(data_outro)\n",
    "        print(data_outro)\n",
    "        \n",
    "    data = temp.readline()\n",
    "    data = data.split(\",\")[3].replace(\"[\", \"\")\n",
    "    \n",
    "    plt.title('Temperatura Zona 0')\n",
    "    plt.xlabel('HORA')\n",
    "    plt.ylabel('Temperatura(°C)')\n",
    "\n",
    "    plt.bar(data_outro, dt_string)\n",
    "    plt.show()\n",
    "    \n",
    "#plt.title('Temperatura - ' +dt_string)\n",
    "#plt.xlabel('Zonas de Temperatura[0-N]')\n",
    "#plt.ylabel('Temperatura(°C)')\n",
    "\n",
    "#plt.bar(valores, myList, edgecolor=\"yellow\", color=\"green\")\n",
    "\n",
    "#plt.show()\n",
    "\n",
    "#schedule.every(5).minutes.do(job)\n",
    "\n",
    "#while True:\n",
    "    #schedule.run_pending()\n",
    "    #time.sleep(5)\n"
   ]
  },
  {
   "cell_type": "code",
   "execution_count": null,
   "id": "3e1efa1c",
   "metadata": {
    "scrolled": true
   },
   "outputs": [],
   "source": [
    "horarios = ['14:54:22', '14:59:22', '15:04:22', '15:09:22']\n",
    "\n",
    "with open('tzone0.txt', 'r') as temp:\n",
    "    lista = json.load(temp)\n",
    "    print(lista)\n",
    "    \n",
    "with open('tzone1.txt', 'r') as temp1:\n",
    "    lista1 = json.load(temp1)\n",
    "    print(lista1)\n",
    "    \n",
    "with open('tzone2.txt', 'r') as temp2:\n",
    "    lista2 = json.load(temp2)\n",
    "    print(lista2)\n",
    "    \n",
    "with open('tzone3.txt', 'r') as temp3:\n",
    "    lista3 = json.load(temp3)\n",
    "    print(lista3)\n",
    "    \n",
    "\n",
    "fig = plt.figure()\n",
    "x = np.linspace(0, 2 * np.pi, 50)\n",
    "plt.xlabel('hora')\n",
    "plt.ylabel('temp')\n",
    "plt.plot(horarios, lista, color = \"red\", linewidth = 1.5, linestyle = \"-.\")\n",
    "plt.plot(horarios, lista1, marker = '+', linestyle = '-')\n",
    "plt.plot(horarios, lista2, color = \"green\", linewidth = 1.5, linestyle = \"-.\")\n",
    "plt.plot(horarios, lista3, color = \"pink\", marker = '+', linestyle = '-')\n",
    "#plt.legend(loc = \"upper left\")\n",
    "plt.show()\n",
    " "
   ]
  },
  {
   "cell_type": "code",
   "execution_count": null,
   "id": "2ae9766d",
   "metadata": {},
   "outputs": [],
   "source": []
  },
  {
   "cell_type": "code",
   "execution_count": null,
   "id": "490cbd88",
   "metadata": {},
   "outputs": [],
   "source": []
  }
 ],
 "metadata": {
  "kernelspec": {
   "display_name": "Python 3 (ipykernel)",
   "language": "python",
   "name": "python3"
  },
  "language_info": {
   "codemirror_mode": {
    "name": "ipython",
    "version": 3
   },
   "file_extension": ".py",
   "mimetype": "text/x-python",
   "name": "python",
   "nbconvert_exporter": "python",
   "pygments_lexer": "ipython3",
   "version": "3.10.6"
  }
 },
 "nbformat": 4,
 "nbformat_minor": 5
}
